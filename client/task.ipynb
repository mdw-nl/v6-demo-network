{
 "cells": [
  {
   "cell_type": "code",
   "execution_count": null,
   "metadata": {},
   "outputs": [],
   "source": [
    "from getpass import getpass\n",
    "from time import sleep\n",
    "from vantage6.client import Client"
   ]
  },
  {
   "cell_type": "code",
   "execution_count": null,
   "metadata": {},
   "outputs": [],
   "source": [
    "config = {\n",
    "    'server_url': \"http://localhost\",\n",
    "    'server_port': 5050,\n",
    "    'server_api': \"/api\",\n",
    "    # MODIFY THIS\n",
    "    # Your user name goes here\n",
    "    'username': \"phobos\",\n",
    "    # Your password goes here\n",
    "    #'password': \"password-goes-here\",\n",
    "    # Or, better: ask for it:\n",
    "    'password': getpass(\"Password: \"),\n",
    "    # we won't do enryption\n",
    "    'organization_key': None,\n",
    "}\n"
   ]
  },
  {
   "cell_type": "code",
   "execution_count": null,
   "metadata": {},
   "outputs": [],
   "source": [
    "# Initialize the client object, and run the authentication\n",
    "client = Client(config['server_url'], config['server_port'], config['server_api'])\n",
    "client.authenticate(config['username'], config['password'])\n"
   ]
  },
  {
   "cell_type": "code",
   "execution_count": null,
   "metadata": {},
   "outputs": [],
   "source": [
    "# Optional: setup the encryption, if you have an organization_key\n",
    "client.setup_encryption(config['organization_key'])"
   ]
  },
  {
   "cell_type": "code",
   "execution_count": null,
   "metadata": {},
   "outputs": [],
   "source": [
    "# List all collaborations\n",
    "client.collaboration.list(fields=['id', 'name', 'organizations'])"
   ]
  },
  {
   "cell_type": "code",
   "execution_count": null,
   "metadata": {},
   "outputs": [],
   "source": [
    "# List all organizations\n",
    "client.organization.list(fields=['id', 'name'])"
   ]
  },
  {
   "cell_type": "code",
   "execution_count": null,
   "metadata": {},
   "outputs": [],
   "source": [
    "# Define some input for the averaging algorithm\n",
    "input_ = {\n",
    "    'method': 'partial_average',\n",
    "    'kwargs': {'column_name': 'value'},\n",
    "}\n",
    "\n",
    "\n",
    "average_task = client.task.create(\n",
    "    collaboration=1,\n",
    "    # MODIFY THIS\n",
    "    organizations=[3],\n",
    "    name=\"letters-test-average-task\",\n",
    "    image=\"harbor2.vantage6.ai/demo/average\",\n",
    "    description='',\n",
    "    databases=[\n",
    "        {'label': 'letters'}\n",
    "    ],\n",
    "    input_=input_\n",
    ")"
   ]
  },
  {
   "cell_type": "code",
   "execution_count": null,
   "metadata": {},
   "outputs": [],
   "source": [
    "# Wait for results to be ready\n",
    "print(\"Waiting for results\")\n",
    "task_id = average_task['id']\n",
    "result = client.wait_for_results(task_id)\n",
    "\n",
    "# Get the results\n",
    "result_info = client.result.from_task(task_id=task_id)\n",
    "print(\"Results object:\")\n",
    "print(result_info)\n",
    "\n",
    "sleep(2)\n",
    "# Try to print them nicely (depends on the algo..)\n",
    "print()\n",
    "print(\"Results:\")\n",
    "for data in result_info['data']:\n",
    "    print(data['result'])\n",
    "    print()"
   ]
  }
 ],
 "metadata": {
  "kernelspec": {
   "display_name": "venv",
   "language": "python",
   "name": "python3"
  },
  "language_info": {
   "codemirror_mode": {
    "name": "ipython",
    "version": 3
   },
   "file_extension": ".py",
   "mimetype": "text/x-python",
   "name": "python",
   "nbconvert_exporter": "python",
   "pygments_lexer": "ipython3",
   "version": "3.12.4"
  }
 },
 "nbformat": 4,
 "nbformat_minor": 2
}
